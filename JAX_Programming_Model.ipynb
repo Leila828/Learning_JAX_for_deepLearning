{
  "nbformat": 4,
  "nbformat_minor": 0,
  "metadata": {
    "colab": {
      "provenance": [],
      "authorship_tag": "ABX9TyNxqVM8HGz2WYxsvpAHFY1E",
      "include_colab_link": true
    },
    "kernelspec": {
      "name": "python3",
      "display_name": "Python 3"
    },
    "language_info": {
      "name": "python"
    },
    "accelerator": "GPU"
  },
  "cells": [
    {
      "cell_type": "markdown",
      "metadata": {
        "id": "view-in-github",
        "colab_type": "text"
      },
      "source": [
        "<a href=\"https://colab.research.google.com/github/Leila828/Learning_JAX_for_deepLearning/blob/main/JAX_Programming_Model.ipynb\" target=\"_parent\"><img src=\"https://colab.research.google.com/assets/colab-badge.svg\" alt=\"Open In Colab\"/></a>"
      ]
    },
    {
      "cell_type": "markdown",
      "source": [
        "**Functional programming (FP)#**\n",
        "Functional programming is a paradigm focused on functions. It’s okay if you are unfamiliar with functional programming because JAX mainly centers around just one of its key features.\n",
        "\n",
        "Pure functions# **bold text** **bold text**\n",
        "Pure functions are similar to mathematical functions and have the following properties:\n",
        "\n",
        "Identical outputs: No matter how many times we run the function, it gives the same output for the same tuple of inputs.\n",
        "No side-effects: The function doesn’t change any variable other than variables in its local scope.\n",
        "Examples#\n",
        "Here is a basic example of a pure function:"
      ],
      "metadata": {
        "id": "qddZbSaBOFV2"
      }
    },
    {
      "cell_type": "code",
      "source": [
        "def Square(x):\n",
        "  return x*x"
      ],
      "metadata": {
        "id": "WszDdtrWOSJC"
      },
      "execution_count": null,
      "outputs": []
    },
    {
      "cell_type": "markdown",
      "source": [
        "On the other hand, here is a counter-example of an impure function:"
      ],
      "metadata": {
        "id": "kO9wckqXOXLG"
      }
    },
    {
      "cell_type": "code",
      "execution_count": null,
      "metadata": {
        "colab": {
          "base_uri": "https://localhost:8080/"
        },
        "id": "7_r5PIqhM85y",
        "outputId": "b7f7fb31-89bd-45fc-aafc-a011c5bfa415"
      },
      "outputs": [
        {
          "output_type": "stream",
          "name": "stdout",
          "text": [
            "11\n"
          ]
        }
      ],
      "source": [
        "a = 10\n",
        "\n",
        "def Func(x):\n",
        "  global a\n",
        "  a = a+1     #changing the value of non-local variable a\n",
        "\n",
        "def Func2(x):\n",
        "  print(\"Executing..\") #Any I/O operation is a side-effect\n",
        "\n",
        "#In case one would like to see the change in a\n",
        "Func(a)\n",
        "print(a)  #value is changed"
      ]
    },
    {
      "cell_type": "markdown",
      "source": [
        "Since JAX always expects a pure function for transformation or compilation, we should make sure to observe this practice whenever writing JAX code.\n"
      ],
      "metadata": {
        "id": "6fGEveAxOdQ_"
      }
    },
    {
      "cell_type": "markdown",
      "source": [
        "JAX Numpy\n",
        "JAX has its own variant of NumPy, which we can import as:"
      ],
      "metadata": {
        "id": "DwyqA16TOiH2"
      }
    },
    {
      "cell_type": "markdown",
      "source": [
        "One might worry that we have to re-learn a new NumPy from scratch, but luckily the syntax of NumPy and JAX is the same. For example:"
      ],
      "metadata": {
        "id": "VAkatNaiOm3_"
      }
    },
    {
      "cell_type": "markdown",
      "source": [],
      "metadata": {
        "id": "EWLm9IxZOp8d"
      }
    },
    {
      "cell_type": "code",
      "source": [
        "import numpy as np\n",
        "import jax.numpy as jnp\n",
        "\n",
        "# We have used the respective prefixes to make it easy to distinguish \n",
        "# between NumPy and JAX arrays.\n",
        "\n",
        "#Initializing NumPy arrays\n",
        "np_a = np.arange(9)\n",
        "np_b = np.linspace(0,20,num=5)\n",
        "np_c = np.zeros(15)\n",
        "np_d = np.ones(10)\n",
        "\n",
        "#Initializing JAX arrays\n",
        "jnp_a = jnp.arange(9)\n",
        "jnp_b = jnp.linspace(0,20,num=5)\n",
        "jnp_c = jnp.zeros(15)\n",
        "jnp_d = np.ones(10)\n",
        "\n",
        "#NumPy arrays\n",
        "print(\"Printing NumPy arrays\")\n",
        "print(np_a)\n",
        "print(np_b)\n",
        "print(np_c)\n",
        "print(np_d)\n",
        "\n",
        "#JAX arrays\n",
        "print(\"Printing JAX arrays\")\n",
        "print(jnp_a)\n",
        "print(jnp_b)\n",
        "print(jnp_c)\n",
        "print(jnp_d)"
      ],
      "metadata": {
        "id": "Evz31bn5OD3i"
      },
      "execution_count": null,
      "outputs": []
    },
    {
      "cell_type": "markdown",
      "source": [
        "Differences\n",
        "Despite their similarities, there are still a few differences between NumPy and JAX. Also, it’s important to remember that JAX NumPy is not a rival library to NumPy, but is instead supposed to enhance its experience. If we can’t find a feature in JAX, we can always switch to default NumPy, but it should be the last option, though, as NumPy code is unable to use the GPU/TPU.\n",
        "\n",
        "Type\n",
        "As we can quickly check using type(), NumPy and JAX arrays differ by their respective datatypes:\n"
      ],
      "metadata": {
        "id": "VJlW6y0HOuFv"
      }
    },
    {
      "cell_type": "code",
      "source": [
        "import numpy as np\n",
        "import jax\n",
        "import jax.numpy as jnp\n",
        "\n",
        "np_a = np.array((1,2,3))\n",
        "print(\"Type of array a is\",type(np_a))\n",
        "jnp_b = jnp.array((1,2,3))\n",
        "print(\"Type of array b is\",type(jnp_b))"
      ],
      "metadata": {
        "id": "JGhhmrpgf5gL"
      },
      "execution_count": null,
      "outputs": []
    },
    {
      "cell_type": "markdown",
      "source": [
        "GPU/TPU usage\n",
        "While NumPy arrays cannot harness the powers of GPU/TPU, JAX arrays look out for them by default before switching back to CPU (if they are unable to find any). That’s why our programs issue a warning of No GPU/TPU found.\n",
        "\n",
        "Mutability\n",
        "NumPy arrays are mutable. For example:"
      ],
      "metadata": {
        "id": "3NYc1ueof7UE"
      }
    },
    {
      "cell_type": "markdown",
      "source": [
        "In order to suppress the warning of No GPU/TPU found, we can set the default device to CPU as:\n",
        "\n",
        "jax.config.update('jax_platform_name','cpu')\n",
        "We will use this setting from now on."
      ],
      "metadata": {
        "id": "2Vb0Ba7-f-T7"
      }
    },
    {
      "cell_type": "code",
      "source": [
        "import numpy as np\n",
        "\n",
        "np_a = np.array((1,2,3))\n",
        "print(np_a)\n",
        "\n",
        "#Mutating the array is allowed\n",
        "np_a[2] = 12\n",
        "print(np_a)"
      ],
      "metadata": {
        "id": "nZIg6b82f-4h"
      },
      "execution_count": null,
      "outputs": []
    },
    {
      "cell_type": "code",
      "source": [
        "import jax\n",
        "import jax.numpy as jnp\n",
        "\n",
        "jnp_a = jnp.array((1,2,3))\n",
        "print(jnp_a)\n",
        "\n",
        "#Mutating the array is NOT allowed\n",
        "jnp_a[2] = 12\n",
        "print(jnp_a)\n"
      ],
      "metadata": {
        "id": "DxjUmUpLgGEO"
      },
      "execution_count": null,
      "outputs": []
    },
    {
      "cell_type": "markdown",
      "source": [
        "Random numbers generation\n",
        "JAX and NumPy also differ in random numbers generation algorithm, a feature covered later in this course.\n",
        "\n",
        "Use of built-in Python structures\n",
        "Unlike NumPy, JAX doesn’t allow the use of Python’s built-in data structures like list or tuple. JAX will only work on either a JAX array, a NumPy array, or a scalar.\n",
        "\n",
        "This example will illustrate the difference:"
      ],
      "metadata": {
        "id": "VOpl4t_UgLIo"
      }
    },
    {
      "cell_type": "code",
      "source": [
        "import numpy as np\n",
        "import jax.numpy as jnp\n",
        "\n",
        "def FuncA(x):\n",
        "  return np.dot(x,x)\n",
        "\n",
        "def FuncB(x):\n",
        "  return jnp.dot(x,x) #JAX Version\n",
        "\n",
        "np_a = np.arange(10)\n",
        "jnp_b = jnp.arange(10)\n",
        "\n",
        "#And couple of primitive structures\n",
        "c = [1,2,3,4,5]\n",
        "d = (1,2,1,4,2)\n",
        "\n",
        "#Works for all of them\n",
        "print(FuncA(np_a))\n",
        "print(FuncA(jnp_b))\n",
        "print(FuncA(c))\n",
        "print(FuncA(d))\n",
        "\n",
        "print(\"Testing JAX version on both JNP and NP Arrays\")\n",
        "print(FuncB(np_a))\n",
        "print(FuncB(jnp_b))\n",
        "\n",
        "#JNP Version doesn't for Python structures - expect errors\n",
        "print(\"Testing JAX version on Python structures\")\n",
        "print(FuncB(c)) \n",
        "print(FuncB(d)) "
      ],
      "metadata": {
        "id": "jcYTTdZsgOG9"
      },
      "execution_count": null,
      "outputs": []
    },
    {
      "cell_type": "markdown",
      "source": [
        "**Just-in-Time (JIT) Compilation**"
      ],
      "metadata": {
        "id": "F34l4hx5gRPh"
      }
    },
    {
      "cell_type": "markdown",
      "source": [
        "\n",
        "**What is JIT?#**\n",
        "Anyone who has some experience with Java or .NET frameworks will be familiar with Just-In-Time compilation. In Just-In-Time (JIT) compilation, we compile the code at the run-time -\n",
        "−\n",
        " also known as dynamic translation -\n",
        "−\n",
        " which results in high-speed code execution"
      ],
      "metadata": {
        "id": "OGeulCFQgp9y"
      }
    },
    {
      "cell_type": "markdown",
      "source": [
        "**Python and JIT#**\n",
        "One of the major criticisms of Python is its slow execution. However, inspired by .NET framework and Objective-C/Swift, there have been some JIT attempts in Python. Some of the notable examples include CPython and PyPy."
      ],
      "metadata": {
        "id": "L1HN5W6ag3sL"
      }
    },
    {
      "cell_type": "markdown",
      "source": [
        "**XLA compiler#**\n",
        "JAX uses JIT compilation, which enables simple Python functions to target the XLA compiler. Before we move on, it would be worthwhile to give a brief introduction to XLA.\n",
        "\n",
        "XLA (Accelerated Linear Algebra) is a domain-specific compiler. Originally developed for Tensorflow, XLA allows faster code and more efficient memory usage.\n",
        "\n",
        "JIT compilation enables XLA to compile the given code into computation kernels that are specific to the given model, which helps to improve performance.\n",
        "\n",
        "**JAX JIT#**\n",
        "JAX operations can be either:\n",
        "\n",
        "Static\n",
        "Dynamic/Traced\n",
        "Static operations are evaluated on the compile-time, and cannot target the XLA compiler as dynamic/traced operations do.\n",
        "\n",
        "Luckily, most JAX operations are expressable in XLA terms. All we need to do to achieve this is to import the required library and call the respective function using the jit.\n",
        "\n",
        "Let’s illustrate some of the features of jit using an example.\n",
        "\n",
        "We’ll begin by making a simple function to demonstrate the difference between standard Python and JIT compilation by a simple square function:"
      ],
      "metadata": {
        "id": "hn639wM-g9bE"
      }
    },
    {
      "cell_type": "code",
      "source": [
        "from jax import jit\n",
        "\n",
        "#Normal Square Function\n",
        "def Square(x):\n",
        "    print(\"Running the Non-JIT function\")\n",
        "    ans = x*x\n",
        "    print(\"x square is: \",ans)\n",
        "    return ans    \n",
        "\n",
        "#Now run the JIT version\n",
        "@jit\n",
        "def JIT_Square(x):\n",
        "    print(\"Running the JIT function\")\n",
        "    ans = x*x\n",
        "    print(\"x square is: \",ans)\n",
        "    return ans\n",
        "\n",
        "x = 4.2\n",
        "print(Square(x))\n",
        "print(\"------Here comes the interesting part-------\")\n",
        "print(JIT_Square(x))  \n",
        "\n",
        "#you can also execute a non-jit using JIT as follows:\n",
        "#print(jit(Square)(x))"
      ],
      "metadata": {
        "colab": {
          "base_uri": "https://localhost:8080/"
        },
        "id": "7OUJ4Th8ggtU",
        "outputId": "acc011d9-91c0-4af6-9e8b-93444e1a9bae"
      },
      "execution_count": null,
      "outputs": [
        {
          "output_type": "stream",
          "name": "stderr",
          "text": [
            "WARNING:absl:No GPU/TPU found, falling back to CPU. (Set TF_CPP_MIN_LOG_LEVEL=0 and rerun for more info.)\n"
          ]
        },
        {
          "output_type": "stream",
          "name": "stdout",
          "text": [
            "Running the Non-JIT function\n",
            "x square is:  17.64\n",
            "17.64\n",
            "------Here comes the interesting part-------\n",
            "Running the JIT function\n",
            "x square is:  Traced<ShapedArray(float32[], weak_type=True)>with<DynamicJaxprTrace(level=0/1)>\n",
            "17.639997\n"
          ]
        }
      ]
    },
    {
      "cell_type": "markdown",
      "source": [
        "The above example demonstrates a clear distinction between “JITing” a function and running it normally. While both functions return the same value, the difference lies in their interim evaluation -\n",
        "−\n",
        " that is, within the function.\n",
        "\n",
        "Since JIT preempts the result, we cannot get a concrete value within the function and instead get the tracer object."
      ],
      "metadata": {
        "id": "XruvTFfFjDrB"
      }
    },
    {
      "cell_type": "markdown",
      "source": [
        "The difference between the two answers is due to the 32-bit precision enforced by JAX. Floating-point numbers act unexpectedly at times in 32-bit due to base-2 power representation so it’s preferable to use 64-bit precision in critical problems.\n",
        "https://stackoverflow.com/a/588014/1698143"
      ],
      "metadata": {
        "id": "nV-c2QWajQ5u"
      }
    },
    {
      "cell_type": "markdown",
      "source": [
        "**Tracer objects#**\n",
        "As shown in the example above, JIT basically uses the tracer objects to preempt the sequence of operations outlined by the function.\n",
        "\n",
        "This preemption can lead to some issues as well. For example, using a tracer object’s value in an if-else will result in the following error.\n",
        "\n",
        "Abstract tracer value encountered where concrete value is expected."
      ],
      "metadata": {
        "id": "Er54OEd2jqht"
      }
    },
    {
      "cell_type": "code",
      "source": [
        "from jax import jit\n",
        "\n",
        "#Normally running JIT code\n",
        "@jit\n",
        "def F(x):\n",
        "    for i in range(1,10):\n",
        "        x=x+i\n",
        "    return x\n",
        "\n",
        "a = 2.0\n",
        "print(F(a))   \n",
        "\n",
        "#Tracer object's value is undetermined\n",
        "@jit\n",
        "def H(x):\n",
        "    if(x>0):\n",
        "        print(\"Positive\")\n",
        "    else:\n",
        "        print(\"Zero or negative!\")\n",
        "\n",
        "def G(x):\n",
        "    if(x>0):\n",
        "        print(\"Positive\")\n",
        "    else:\n",
        "        print(\"Zero or negative!\")\n",
        "\n",
        "G(4) #will run without any error\n",
        "H(4) #throws error"
      ],
      "metadata": {
        "id": "-FPu8BW2iiOA"
      },
      "execution_count": null,
      "outputs": []
    },
    {
      "cell_type": "markdown",
      "source": [
        "This restriction is limited to the selection structures. If we use the same @jit decorator for some loop, the code will run without any issue (assuming there is no selection structure)."
      ],
      "metadata": {
        "id": "zr22aNupkeDs"
      }
    },
    {
      "cell_type": "markdown",
      "source": [
        "**JAX Expressions (Jaxpr)**"
      ],
      "metadata": {
        "id": "nVteq-uhpR0a"
      }
    },
    {
      "cell_type": "markdown",
      "source": [
        "We just discussed how trace objects are used to preempt the sequence of operations outlined in the function. These extracted JAX expressions are discussed in this lesson.\n",
        "\n",
        "Lambda expressions#\n",
        "Before beginning the JAX expressions, it is helpful to have a quick introduction of Lambda expressions.\n",
        "\n",
        "Lambda expressions are usually used for anonymous functions. Defining them is pretty easy:\n",
        "\n",
        "Specify the lambda keyword\n",
        "Outline the parameters (enclosed by :).\n",
        "Specify the expression body.\n",
        "For example, a simple Lambda expression to calculate the circumference of a circle is:"
      ],
      "metadata": {
        "id": "QoRf10_RpTP6"
      }
    },
    {
      "cell_type": "code",
      "source": [
        "print((lambda x: 2*jnp.pi*x)(2))"
      ],
      "metadata": {
        "id": "kCX7YVtppS-u"
      },
      "execution_count": null,
      "outputs": []
    },
    {
      "cell_type": "markdown",
      "source": [
        "Similarly, below is an example of a lambda expression with multiple variables to calculate the area of a triangle:"
      ],
      "metadata": {
        "id": "rWyxjG6ppaSy"
      }
    },
    {
      "cell_type": "code",
      "source": [
        "print((lambda b,h: (1/2)*b*h)(2,3))"
      ],
      "metadata": {
        "id": "dM3t_lWapdFz"
      },
      "execution_count": null,
      "outputs": []
    },
    {
      "cell_type": "markdown",
      "source": [
        "JAX expressions#\n",
        "As we saw earlier, tracer objects are encoded in a JAX Expression (or jaxpr in short) while used to extract the sequence of operations from the function.\n",
        "\n",
        "Let’s go over the background JAX expression (referred to as jaxpr subsequently). We can import the relevant library as follows:"
      ],
      "metadata": {
        "id": "fNePzp4DpfnM"
      }
    },
    {
      "cell_type": "code",
      "source": [
        "from jax import make_jaxpr"
      ],
      "metadata": {
        "id": "MFLfuzQJpiEC"
      },
      "execution_count": null,
      "outputs": []
    },
    {
      "cell_type": "markdown",
      "source": [
        "Let’s begin with a simple example first:\n",
        "\n",
        "f(x,y) = 2x^2+3y\n"
      ],
      "metadata": {
        "id": "B4kkxs35plsi"
      }
    },
    {
      "cell_type": "code",
      "source": [
        "from jax import make_jaxpr\n",
        "\n",
        "@jit\n",
        "def F(x,y):\n",
        "    return 2*x*x+3*y\n",
        "\n",
        "jxpr_F = make_jaxpr(F) #making Expression Tree for the given JIT Function\n",
        "\n",
        "a = 2.0\n",
        "b = 4.0\n",
        "print(F(a,b)) \n",
        "print(jxpr_F(a,b)) "
      ],
      "metadata": {
        "id": "6Ge_9ZKvp0Ap"
      },
      "execution_count": null,
      "outputs": []
    },
    {
      "cell_type": "markdown",
      "source": [
        "The output contains the following jaxpr:"
      ],
      "metadata": {
        "id": "B8zxVIXuppti"
      }
    },
    {
      "cell_type": "markdown",
      "source": [
        "call_jaxpr=\n",
        "{ \n",
        "lambda  ; a b.\n",
        "let c = mul a 2.0\n",
        "d = mul c a\n",
        "e = mul b 3.0\n",
        "f = add d e\n",
        "in (f,) }"
      ],
      "metadata": {
        "id": "8yceh8VYp67K"
      }
    },
    {
      "cell_type": "code",
      "source": [
        "call_jaxpr=\n",
        "{ \n",
        "lambda  ; a b.\n",
        "let c = mul a 2.0\n",
        "d = mul c a\n",
        "e = mul b 3.0\n",
        "f = add d e\n",
        "in (f,) }"
      ],
      "metadata": {
        "id": "K7m15GOhp3ZC"
      },
      "execution_count": null,
      "outputs": []
    },
    {
      "cell_type": "markdown",
      "source": [
        "From here, we can easily decode it back into the whole expression tree."
      ],
      "metadata": {
        "id": "J4rA2Nnzp9Py"
      }
    },
    {
      "cell_type": "markdown",
      "source": [
        "![jax.PNG](data:image/png;base64,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)"
      ],
      "metadata": {
        "id": "kTX2QVpFqRlC"
      }
    },
    {
      "cell_type": "markdown",
      "source": [
        "Let’s look at another example before we conclude:"
      ],
      "metadata": {
        "id": "K8r6LvvIqVr5"
      }
    },
    {
      "cell_type": "code",
      "source": [
        "def F_NonJit(x,y):\n",
        "    return 2*jnp.sin(x)+jnp.exp(-3*y)\n",
        "\n",
        "@jit\n",
        "def F(x,y):\n",
        "    return 2*jnp.sin(x)+jnp.exp(-3*y)\n",
        "\n",
        "jxpr_F = make_jaxpr(F) \n",
        "jxpr_F_NonJit = make_jaxpr(F_NonJit)\n",
        "a = jnp.pi/2\n",
        "b = 4.0\n",
        "print(F(a,b)) \n",
        "print(jxpr_F(a,b)) \n",
        "print(\"Non Jit's Jaxpr\")\n",
        "print(jxpr_F_NonJit(a,b))"
      ],
      "metadata": {
        "id": "JlVnQTetqZUj"
      },
      "execution_count": null,
      "outputs": []
    },
    {
      "cell_type": "markdown",
      "source": [
        "What’s the difference between the jaxpr for a JIT and the “non-JIT” function, though? As we have seen in the examples above:\n",
        "\n",
        "Expression trees are the same for both.\n",
        "The only difference lies in the XLA call and some device-related information.\n",
        "These JAX expressions can be quite helpful in analyzing our JIT codes, as we’ll see over the rest of the course."
      ],
      "metadata": {
        "id": "gfH-qbd8qgAq"
      }
    },
    {
      "cell_type": "markdown",
      "source": [
        "**Asynchronous Dispatch**"
      ],
      "metadata": {
        "id": "MIUdfU0c15uS"
      }
    },
    {
      "cell_type": "markdown",
      "source": [
        "Introductory example#\n",
        "We have already talked about the JIT’s usefulness. Now let’s take a look at the difference in speed between a JIT and a normal function:"
      ],
      "metadata": {
        "id": "uXY5jWCB17Ha"
      }
    },
    {
      "cell_type": "code",
      "source": [
        "import numpy as np\n",
        "import jax.numpy as jnp\n",
        "from jax import jit\n",
        "import timeit\n",
        "\n",
        "#Normal Function\n",
        "def FuncA(x,y):\n",
        "  return np.asarray(np.dot(x,y))\n",
        "\n",
        "#And JIT version\n",
        "@jit\n",
        "def FuncB(x,y):\n",
        "  return jnp.dot(x,y)\n",
        "\n",
        "x = jnp.ones((1000,1000))\n",
        "\n",
        "start_time = timeit.default_timer()\n",
        "FuncA(x,x)\n",
        "\n",
        "print(\"Total time taken for normal function:\", timeit.default_timer() - start_time)\n",
        "\n",
        "start_time = timeit.default_timer()\n",
        "FuncB(x,x)\n",
        "\n",
        "print(\"Total time taken for JIT function:\", timeit.default_timer() - start_time)"
      ],
      "metadata": {
        "colab": {
          "base_uri": "https://localhost:8080/"
        },
        "id": "a64AhFiJ19sI",
        "outputId": "0e2c28ce-1513-4c19-db1d-e5e3ecd661fd"
      },
      "execution_count": null,
      "outputs": [
        {
          "output_type": "stream",
          "name": "stdout",
          "text": [
            "Total time taken for normal function: 0.02740909199997077\n",
            "Total time taken for JIT function: 0.015167289000032724\n"
          ]
        }
      ]
    },
    {
      "cell_type": "markdown",
      "source": [
        "If we run the above code on the CPU, the output should be fairly straightforward.\n",
        "\n",
        "If we run it on GPU/TPU, on the other hand, the output is quite astonishing. The JAX JIT function is almost three times faster than the “non-JIT” function and completes within 0.02sec for a 1000\\times1000\n",
        "1000×1000\n",
        " array.\n",
        "\n",
        "This result can be misleading, though. We need to examine some of the background mechanisms to fully understand what is happening here."
      ],
      "metadata": {
        "id": "IUOn83WM2AXo"
      }
    },
    {
      "cell_type": "markdown",
      "source": [
        "**Actual mechanism#**\n",
        "When an operation (like jnp.dot() above) is executed, JAX doesn’t wait for the whole result and instead returns a DeviceArray value. This may result in an erroneous result (well, more of a misleading result), but it can still be helpful. For example:\n",
        "\n",
        "We can pass a computation to another computation without waiting for the final result.\n",
        "We can infer the type or size of a DeviceArray in advance.\n",
        "It is also helpful that we can pipeline our operations without waiting for the outputs and thus can avoid being blocked.\n",
        "\n",
        "However, if we want to determine the actual execution time, we should block the function call to wait until the computation is completed. The block_until_ready() operation does just this:"
      ],
      "metadata": {
        "id": "bR2NUPC62DYx"
      }
    },
    {
      "cell_type": "code",
      "source": [
        "import tensorflow as tf\n",
        "tf.test.gpu_device_name()"
      ],
      "metadata": {
        "colab": {
          "base_uri": "https://localhost:8080/",
          "height": 36
        },
        "id": "Ic2KwYiX5wYh",
        "outputId": "11b6ce08-dc81-43a2-9aca-ea33f4d7b413"
      },
      "execution_count": null,
      "outputs": [
        {
          "output_type": "execute_result",
          "data": {
            "text/plain": [
              "'/device:GPU:0'"
            ],
            "application/vnd.google.colaboratory.intrinsic+json": {
              "type": "string"
            }
          },
          "metadata": {},
          "execution_count": 2
        }
      ]
    },
    {
      "cell_type": "code",
      "source": [
        "#Normal Function\n",
        "def FuncA(x,y):\n",
        "  return np.asarray(np.dot(x,y))\n",
        "\n",
        "#And JIT version\n",
        "@jit\n",
        "def FuncB(x,y):\n",
        "  return jnp.dot(x,y)\n",
        "\n",
        "\n",
        "x = jnp.ones((1000, 1000))\n",
        "\n",
        "start_time = timeit.default_timer()\n",
        "FuncA(x,x)\n",
        "print(\"Total time taken for normal function:\", timeit.default_timer() - start_time)\n",
        "\n",
        "start_time = timeit.default_timer()\n",
        "FuncB(x,x).block_until_ready()\n",
        "print(\"Total time taken for JIT function:\", timeit.default_timer() - start_time)"
      ],
      "metadata": {
        "colab": {
          "base_uri": "https://localhost:8080/"
        },
        "id": "QZ_nfqgN2HXq",
        "outputId": "b9da6aef-de53-4040-b0e0-800011a15f66"
      },
      "execution_count": null,
      "outputs": [
        {
          "output_type": "stream",
          "name": "stdout",
          "text": [
            "Total time taken for normal function: 0.02155420300005062\n",
            "Total time taken for JIT function: 0.01580735100014863\n"
          ]
        }
      ]
    },
    {
      "cell_type": "markdown",
      "source": [
        "**Auto-differentiation***\n",
        "**Background#**\n",
        "First pioneered by the seminal work of Rumelhart and Hinton in 1986, the majority of current machine learning optimization methods use derivatives. So, there is a pressing need for their efficient calculation.\n",
        "\n",
        "**Manual calculations#**\n",
        "Most of the early machine learning researchers and scientists -\n",
        "−\n",
        " for example, Bottou, 1998 for Stochastic Gradient Descent -\n",
        "−\n",
        " had to go through a slow, laborious process of manual calculation of analytical derivatives, which is prone to error.\n",
        "\n",
        "Using computer program# **bold text**\n",
        "Programming-based solutions are less laborious, but calculating these derivatives in a program can also be tricky. We can categorize them into three paradigms:\n",
        "\n",
        "Symbolic differentiation\n",
        "Numeric differentiation\n",
        "Auto differentiation\n",
        "The first and second methods are prone to errors, including:\n",
        "\n",
        "Calculating higher-derivatives is tricky due to long and complex expressions for symbolic differentiation and rounding-off errors —\n",
        "—\n",
        " meaning less accurate results —\n",
        "—\n",
        " in numeric differentiation.\n",
        "Numeric differentiation uses discretization, which results in loss of accuracy.\n",
        "Symbolic differentiation can lead to inefficient code.\n",
        "Both are slow to calculate the partial derivatives, a key feature of gradient-based optimization algorithms.\n",
        "Automatic differentiation#\n",
        "Automatic differentiation (also known as autodiff) addresses all the issues above and is a key feature of modern ML/DL libraries.\n",
        "\n",
        "**Chain rule#**\n",
        "Autodiff centers around the concept of the chain rule, the fundamental rule in calculus used to calculate derivatives of the composed functions.\n",
        "\n",
        "For example,\n",
        "\n",
        "y = 2x^2 \n",
        "y=2x \n",
        "2\n",
        " +4\n",
        "\n",
        "and,\n",
        "\n",
        "x = 3w\n",
        "x=3w\n",
        "\n",
        "Obviously, differentiating y with respect to w (i.e.\\frac{dy}{dw}\n",
        "dw\n",
        "dy\n",
        "​\n",
        " \n",
        ") is not directly possible. Instead, it will be calculated indirectly using the chain rule:\n",
        "\n",
        "\\frac {dy}{dx} = 4x\n",
        "dx\n",
        "dy\n",
        "​\n",
        " =4x\n",
        "\n",
        "\\frac {dx}{dw} = 3\n",
        "dw\n",
        "dx\n",
        "​\n",
        " =3\n",
        "\n",
        "and,\n",
        "\n",
        "\\frac {dy}{dw} = \\frac {dy}{dx} \\times \\frac {dx}{dw} = 12x = 36w\n",
        "dw\n",
        "dy\n",
        "​\n",
        " = \n",
        "dx\n",
        "dy\n",
        "​\n",
        " × \n",
        "dw\n",
        "dx\n",
        "​\n",
        " =12x=36w\n",
        "\n",
        "There are a couple of ways to calculate the products using the chain rule.\n",
        "\n",
        "Forward accumulation#\n",
        "In forward accumulation, we fix the independent variable and compute gradients recursively.\n",
        "\n",
        "Reverse accumulation#\n",
        "Usually, in deep learning (i.e. backpropagation), we use reverse accumulation in all the major frameworks like PyTorch or Tensorflow.\n",
        "\n",
        "JAX is even better at performing both types of accumulation. The choice to use forward or reverse accumulation usually depends on the number of features, but reverse accumulation is generally the default method in deep learning."
      ],
      "metadata": {
        "id": "AknYKpkl2J1v"
      }
    },
    {
      "cell_type": "markdown",
      "source": [
        "note: Recent research published by Princeton researchers (ICLR 2021 oral) realizes the fundamental question related to automatic differentiation in deep learning -\n",
        "−\n",
        " “Why spend computation and memory on exact (minibatch) gradients only to use them for stochastic optimization?” -\n",
        "−\n",
        " and saves both computation and memory by inexact gradients using automatic differentiation."
      ],
      "metadata": {
        "id": "oPYMIcEo8-sI"
      }
    },
    {
      "cell_type": "markdown",
      "source": [
        "Auto-differentiation in JAX#\n",
        "Let’s move on from the theoretical background for now and instead, start on importing the JAX autograd library and begin working out the gradients.\n",
        "\n",
        "JAX provides the grad() function to calculate derivatives. If we have a function f in the code as Func(), then grad(Func()) will represent the \\Delta f\n",
        "Δf\n",
        ".\n",
        "\n",
        "Note: Evaluating the gradient for any value is just like the evaluation of a function at a given value."
      ],
      "metadata": {
        "id": "g6egGof19GgK"
      }
    },
    {
      "cell_type": "code",
      "source": [
        "from jax import grad\n",
        "\n",
        "def FuncY(a):\n",
        "  return 4*a*a+2*a+5\n",
        "\n",
        "dy = (grad(FuncY))\n",
        "\n",
        "print(dy(2.0))"
      ],
      "metadata": {
        "id": "C_1Pqc7e9CkR"
      },
      "execution_count": null,
      "outputs": []
    },
    {
      "cell_type": "markdown",
      "source": [
        "If we input 2\n",
        "2\n",
        " in the example above (in lieu of 2.0), JAX will throw an error. This is because grad() required real or complex inputs.\n",
        "\n",
        "Higher derivatives#\n",
        "We can call grad() recursively to calculate the higher derivatives. For example:"
      ],
      "metadata": {
        "id": "p4yK39Fm9F_5"
      }
    },
    {
      "cell_type": "code",
      "source": [
        "def FuncY(a):\n",
        "  return 4*a*a+2*a+5\n",
        "\n",
        "dy = (grad(FuncY))\n",
        "dy2 = grad(grad(FuncY))\n",
        "dy3 = grad(grad(grad(FuncY)))\n",
        "\n",
        "a = 2.0\n",
        "print(dy(a))\n",
        "print(dy2(a))\n",
        "print(dy3(a))"
      ],
      "metadata": {
        "id": "QyVqmjG19OuQ"
      },
      "execution_count": null,
      "outputs": []
    },
    {
      "cell_type": "markdown",
      "source": [
        "**Chain rule using grad()#**\n",
        "As mentioned earlier, the core feature of the auto differentiation paradigm is the chain rule, which is further illustrated by this example:"
      ],
      "metadata": {
        "id": "y2PC_rYa9RJN"
      }
    },
    {
      "cell_type": "code",
      "source": [
        "a = 0.0\n",
        "\n",
        "diff_exp = grad(jnp.exp) #Derivative of exponential is exp itself.\n",
        "\n",
        "print(jnp.exp(a))\n",
        "print(diff_exp(a))\n",
        "\n",
        "def sigmoid(x):\n",
        "  return 1/(1 +jnp.exp(-x))\n",
        "\n",
        "diff_sigmoid = grad(sigmoid)\n",
        "\n",
        "print(sigmoid(a))\n",
        "print(diff_sigmoid(a))"
      ],
      "metadata": {
        "id": "kT35X_kz9Vav"
      },
      "execution_count": null,
      "outputs": []
    },
    {
      "cell_type": "markdown",
      "source": [
        "Although the sigmoid() itself is defined in terms of exp(), the chain rule allows us to calculate the derivative seamlessly.\n",
        "\n",
        "Partial derivatives#\n",
        "In the case of a multivariate function, we are often interested in calculating its partial derivatives (that is, concerning the variable of our interest). For example:\n",
        "\n",
        "f(x,y) = 3x^2 +2 e^{-y}\n",
        "f(x,y)=3x \n",
        "2\n",
        " +2e \n",
        "−y\n",
        " \n",
        "\n",
        "will have the following partial derivatives with respect to x and y respectively:\n",
        "\n",
        "\\frac{\\partial f}{\\partial x} = 6x\n",
        "∂x\n",
        "∂f\n",
        "​\n",
        " =6x\n",
        "\n",
        "\\frac{\\partial f}{\\partial y} = -2e^{-y}\n",
        "∂y\n",
        "∂f\n",
        "​\n",
        " =−2e \n",
        "−y\n",
        " \n",
        "\n",
        "It comes as no surprise that deep learning engineers and researchers tend to use backpropagation and, inevitably, partial derivatives.\n",
        "\n",
        "Calculating partial derivatives is also pretty simple:"
      ],
      "metadata": {
        "id": "m5W7omkY9XxQ"
      }
    },
    {
      "cell_type": "code",
      "source": [
        "def AffineFunction(a,b,x):\n",
        "  return a*x+b\n",
        "\n",
        "partial_a = grad(AffineFunction) #By default, it takes the first argument as diff. variable\n",
        "partial_b = grad(AffineFunction, argnums=1) #Note the use of argnums to use the partial derivative variable\n",
        "\n",
        "#Values are kept simple for the ease in manual comparison (if one would like to)\n",
        "a = 1.0\n",
        "b = 2.0\n",
        "x = 10.0\n",
        "\n",
        "y = AffineFunction(a,b,x)\n",
        "dy_da = partial_a(a,b,x)\n",
        "dy_db = partial_b(a,b,x)\n",
        "\n",
        "print(\"Value of y at given values is:\", y)\n",
        "print(\"Value of ∂y/∂a at given values is:\", dy_da)\n",
        "print(\"Value of ∂y/∂b at given values is:\", dy_db)"
      ],
      "metadata": {
        "id": "uTwOTcAU9cX0"
      },
      "execution_count": null,
      "outputs": []
    },
    {
      "cell_type": "markdown",
      "source": [
        "**value_and_grad()#**\n",
        "We use two different functions or variables in the codes above to evaluate a function and its gradient separately. By using value_and_grad(), we can calculate both collectively."
      ],
      "metadata": {
        "id": "VcT-Vh8A9fOh"
      }
    },
    {
      "cell_type": "code",
      "source": [
        "a = 0.0\n",
        "\n",
        "diff_exp = jax.value_and_grad(jnp.exp) #Derivative of exponential is exp itself.\n",
        "\n",
        "print(diff_exp(a))\n",
        "\n",
        "def sigmoid(x):\n",
        "  return 1/(1 +jnp.exp(-x))\n",
        "\n",
        "diff_sigmoid = jax.value_and_grad(sigmoid)\n",
        "print(diff_sigmoid(a))"
      ],
      "metadata": {
        "id": "bomPZlOQ9jQI"
      },
      "execution_count": null,
      "outputs": []
    },
    {
      "cell_type": "markdown",
      "source": [
        "This is just an introduction to auto-differentiation in JAX. We’ll come back to this topic in the later chapters to cover the advanced features."
      ],
      "metadata": {
        "id": "UJOM-uiM9llX"
      }
    },
    {
      "cell_type": "markdown",
      "source": [
        "**Pytrees**"
      ],
      "metadata": {
        "id": "10HYXvD-KX9I"
      }
    },
    {
      "cell_type": "markdown",
      "source": [
        "Introduction#\n",
        "Pytrees are tree structures built out of container-like Python objects. Basically, they are nested structures. For example:"
      ],
      "metadata": {
        "id": "MCAM8KHJKZhW"
      }
    },
    {
      "cell_type": "code",
      "source": [
        "pyTree1 = [\n",
        "    jnp.ones((2,2)),\n",
        "    (1, 3, 3),\n",
        "    {2, 4},\n",
        "    [(1,2),{1}],\n",
        "    [jnp.ones((1,2)),{2,3},[7,-2]],\n",
        "    [np.ones((1,2)),(0,9)]\n",
        "]\n",
        "\n",
        "for pytree in pyTree1:\n",
        "  leaves = jax.tree_leaves(pytree)\n",
        "  print(f\"{repr(pytree):<50} has {len(leaves)}\", \"leaves:\" if len(leaves)>1 else \"leaf:\",f\"{leaves}\")"
      ],
      "metadata": {
        "id": "CJdV2jpCKciM"
      },
      "execution_count": null,
      "outputs": []
    },
    {
      "cell_type": "markdown",
      "source": [
        "**Common functions#**\n",
        "In Python, map() takes a function and applies it to the whole container of objects. JAX enables us to do the same on Pytrees using tree_map()."
      ],
      "metadata": {
        "id": "gs8xaP7rKfKY"
      }
    },
    {
      "cell_type": "code",
      "source": [
        "from jax import tree_map\n",
        "\n",
        "pyTree1 = [\n",
        "    jnp.ones((2,2)),\n",
        "    (1, 3, 3),\n",
        "    [(1,2),1],\n",
        "    [jnp.ones((1,2)),(2,3),[7,-2]],\n",
        "    [np.ones((1,2)),(0,9)]\n",
        "]\n",
        "\n",
        "squaredPyTree = tree_map(lambda x:x*x, pyTree1)\n",
        "\n",
        "a=1\n",
        "for pytree in squaredPyTree:\n",
        "  leaves = jax.tree_leaves(pytree)\n",
        "  print(f\" Node {repr(a):<20} has {len(leaves)}\", \"leaves:\" if len(leaves)>1 else \"leaf:\",f\"{leaves}\")\n",
        "  a = a+1"
      ],
      "metadata": {
        "id": "Ag-mzVf1KluO"
      },
      "execution_count": null,
      "outputs": []
    },
    {
      "cell_type": "markdown",
      "source": [
        "For multiple Pytrees, we can use tree_multimap() in the same way:"
      ],
      "metadata": {
        "id": "daPkGnVzKkOA"
      }
    },
    {
      "cell_type": "code",
      "source": [
        "from jax import tree_multimap\n",
        "\n",
        "pyTree1 = [\n",
        "    jnp.ones((2,2)),\n",
        "    (1, 3, 3),\n",
        "    [(1,2),1],\n",
        "    [jnp.ones((1,2)),(2,3),[7,-2]],\n",
        "    [np.ones((1,2)),(0,9)]\n",
        "]\n",
        "\n",
        "squaredPyTree = tree_multimap(lambda x,y:2*x*x+4*y, pyTree1, pyTree1)\n",
        "\n",
        "a=1\n",
        "for pytree in squaredPyTree:\n",
        "  leaves = jax.tree_leaves(pytree)\n",
        "  print(f\" Node {repr(a):<20} has {len(leaves)}\", \"leaves:\" if len(leaves)>1 else \"leaf:\",f\"{leaves}\")\n",
        "  a = a+1"
      ],
      "metadata": {
        "id": "9QeRL06KKqaL"
      },
      "execution_count": null,
      "outputs": []
    },
    {
      "cell_type": "markdown",
      "source": [
        "Pytrees are very useful in deep learning where model parameters, usually in the form of a dictionary, are used."
      ],
      "metadata": {
        "id": "P1D_wWJQKtLH"
      }
    },
    {
      "cell_type": "markdown",
      "source": [
        "# **challenge**"
      ],
      "metadata": {
        "id": "lwkrmCxXPv_3"
      }
    },
    {
      "cell_type": "markdown",
      "source": [
        "Challenge: Basics of JAX\n",
        "Test your learning so far by completing a programming exercise.\n",
        "\n",
        "We'll cover the following\n",
        "\n",
        "Important points\n",
        "Exercise 1: Testing array for zeros\n",
        "Exercise 2: Autograd\n",
        "Exercise 3: Autograd 2\n",
        "Important points#\n",
        "Before solving the exercises, please make sure to:\n",
        "\n",
        "Do not change the name of the function below because it will be used by the evaluator.\n",
        "Do not print anything.\n",
        "Do not import any libraries. They are pre-imported. We’ll continue the convention of jnp for JAX NumPy.\n",
        "Variables are usually initialized with 1\n",
        "1\n",
        " to help run the test case. Please override them with intended expressions/values in your implementation.\n",
        "Note: These points will also apply to all the subsequent challenges."
      ],
      "metadata": {
        "id": "MrF3S9_APzbN"
      }
    },
    {
      "cell_type": "markdown",
      "source": [
        "**Exercise 1: Testing array for zeros#**\n",
        "Let’s test our familiarity with the basic JAX and NumPy syntax.\n",
        "\n",
        "In this simple exercise, we are given a JAX array a. Identify whether it contains 0\n",
        "0\n",
        " or not. In other words, if it contains an(y) instance of zero, it should return true and vice-versa."
      ],
      "metadata": {
        "id": "1I3pWFAlP4rT"
      }
    },
    {
      "cell_type": "code",
      "source": [
        "#a will be any JAX array\n",
        "def TestZeroExists(a):\n",
        "  #Please use the condition below to test for zeros\n",
        "  if (1==1):  #Condition is initialized with just a dummy 1=1 case. Please override it\n",
        "    return False\n",
        "  else:\n",
        "    return True\n",
        "#hint Use a JAX.NumPy function which checks for whole/any value in the vector/matrix"
      ],
      "metadata": {
        "id": "kcOOGqrNPzCp"
      },
      "execution_count": null,
      "outputs": []
    },
    {
      "cell_type": "code",
      "source": [
        "#a will be any JAX array\n",
        "def TestZeroExists(a):\n",
        "  #Please use the condition below to test for zeros\n",
        "  if (jnp.all(a)):  #Condition is initialized with just a dummy 1=1 case. Please override it\n",
        "    return False\n",
        "  else:\n",
        "    return True"
      ],
      "metadata": {
        "id": "_3WvVjxtR4PD"
      },
      "execution_count": null,
      "outputs": []
    },
    {
      "cell_type": "markdown",
      "source": [
        "**Exercise 2: Autograd#**\n",
        "Make a function f(x,y) = x^2 - sin(y)\n",
        "f(x,y)=x \n",
        "2\n",
        " −sin(y)\n",
        " and calculate its derivative with respect to both x\n",
        "x\n",
        " and y\n",
        "y\n",
        "."
      ],
      "metadata": {
        "id": "ZEAYhQ_pQNt0"
      }
    },
    {
      "cell_type": "code",
      "source": [
        "from jax import grad\n",
        "#x and y are scalars\n",
        "def F(x,y):\n",
        "  #Please type the code here to return the function given above\n",
        "  ans = 1 #its dummy value. Use actual function expression here\n",
        "  return ans  \n",
        "\n",
        "#Take derivative wrt x\n",
        "Delta_x = 1 #Use the actual expression\n",
        "Delta_y = 1 #Use the actual expression\n",
        "#hint argnums"
      ],
      "metadata": {
        "id": "5B5PrLfKQPkW"
      },
      "execution_count": null,
      "outputs": []
    },
    {
      "cell_type": "code",
      "source": [
        "from jax import grad\n",
        "#x and y are scalars\n",
        "def F(x,y):\n",
        "  return x*x - jnp.sin(y)\n",
        "\n",
        "Delta_x = grad(F)\n",
        "Delta_y = grad(F,argnums=1)"
      ],
      "metadata": {
        "id": "F3ACLRMRVDDq"
      },
      "execution_count": null,
      "outputs": []
    },
    {
      "cell_type": "markdown",
      "source": [
        "**Exercise 3: Autograd 2#**\n",
        "Make a function to define the Hyperbolic Tangent, \\tanh(x)\n",
        "tanh(x)\n",
        ", and calculate its derivative.\n",
        "\n",
        "tanh(x) = \\frac{e^x-e^{-x}}{e^x+e^{-x}}\n",
        "tanh(x)= \n",
        "e \n",
        "x\n",
        " +e \n",
        "−x\n",
        " \n",
        "e \n",
        "x\n",
        " −e \n",
        "−x\n",
        " \n",
        "​\n"
      ],
      "metadata": {
        "id": "Ax6AZodZQdGi"
      }
    },
    {
      "cell_type": "code",
      "source": [
        "from jax import grad\n",
        "\n",
        "def Hyperbolic_Tangent(x):\n",
        "  #Implement Tanh\n",
        "  ans = 1\n",
        "  return ans\n",
        "\n",
        "#Calculate its derivative\n",
        "delta_tanh = 1 #override it\n",
        "#hint Please use paranthesis to separate the numerator from denominator while implementing the tanh"
      ],
      "metadata": {
        "id": "68UBa6gRQfMS"
      },
      "execution_count": null,
      "outputs": []
    },
    {
      "cell_type": "code",
      "source": [
        "from jax import grad\n",
        "\n",
        "def Hyperbolic_Tangent(x):\n",
        "  #Implement Tanh\n",
        "  ans = (jnp.exp(x)-jnp.exp(-x))/(jnp.exp(x)+jnp.exp(-x))\n",
        "  return ans\n",
        "\n",
        "#Calculate its derivative\n",
        "delta_tanh = grad(Hyperbolic_Tangent)"
      ],
      "metadata": {
        "id": "ZFBR7BauVnMI"
      },
      "execution_count": null,
      "outputs": []
    },
    {
      "cell_type": "markdown",
      "source": [
        "Congratulations on finishing the chapter! These ideas will be useful in subsequent lessons. Please make sure to keep practicing them and, in case you forget, there are always challenges to help."
      ],
      "metadata": {
        "id": "17oSdNxaQu-J"
      }
    }
  ]
}