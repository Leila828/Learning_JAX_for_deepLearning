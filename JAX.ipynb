{
  "nbformat": 4,
  "nbformat_minor": 0,
  "metadata": {
    "colab": {
      "provenance": [],
      "collapsed_sections": [],
      "include_colab_link": true
    },
    "kernelspec": {
      "name": "python3",
      "display_name": "Python 3"
    },
    "accelerator": "GPU"
  },
  "cells": [
    {
      "cell_type": "markdown",
      "metadata": {
        "id": "view-in-github",
        "colab_type": "text"
      },
      "source": [
        "<a href=\"https://colab.research.google.com/github/Leila828/Learning_JAX_for_deepLearning/blob/main/JAX.ipynb\" target=\"_parent\"><img src=\"https://colab.research.google.com/assets/colab-badge.svg\" alt=\"Open In Colab\"/></a>"
      ]
    },
    {
      "cell_type": "markdown",
      "metadata": {
        "id": "AP49KnXYnxhW"
      },
      "source": [
        "## JAX Basics"
      ]
    },
    {
      "cell_type": "code",
      "metadata": {
        "id": "IU2f04nkC3Go"
      },
      "source": [
        "import jax\n",
        "import jax.numpy as jnp\n",
        "import numpy as np"
      ],
      "execution_count": null,
      "outputs": []
    },
    {
      "cell_type": "code",
      "metadata": {
        "id": "8qac6cQ6DoZt"
      },
      "source": [
        "x = np.zeros(10)\n",
        "y= jnp.zeros(10)"
      ],
      "execution_count": null,
      "outputs": []
    },
    {
      "cell_type": "code",
      "metadata": {
        "colab": {
          "base_uri": "https://localhost:8080/"
        },
        "id": "itif9nKwFy3d",
        "outputId": "c7517116-eafb-4964-a2ca-a2bd7c628f64"
      },
      "source": [
        "x"
      ],
      "execution_count": null,
      "outputs": [
        {
          "output_type": "execute_result",
          "data": {
            "text/plain": [
              "array([0., 0., 0., 0., 0., 0., 0., 0., 0., 0.])"
            ]
          },
          "metadata": {
            "tags": []
          },
          "execution_count": 4
        }
      ]
    },
    {
      "cell_type": "code",
      "metadata": {
        "colab": {
          "base_uri": "https://localhost:8080/"
        },
        "id": "jwi124dNF0C7",
        "outputId": "abdc904d-d270-4474-9135-87ad718f1b7d"
      },
      "source": [
        "y"
      ],
      "execution_count": null,
      "outputs": [
        {
          "output_type": "execute_result",
          "data": {
            "text/plain": [
              "DeviceArray([0., 0., 0., 0., 0., 0., 0., 0., 0., 0.], dtype=float32)"
            ]
          },
          "metadata": {
            "tags": []
          },
          "execution_count": 5
        }
      ]
    },
    {
      "cell_type": "code",
      "metadata": {
        "id": "IsU-Sw7EJKxH"
      },
      "source": [
        "x = np.random.rand(1000,1000)\n",
        "y = jnp.array(x)"
      ],
      "execution_count": null,
      "outputs": []
    },
    {
      "cell_type": "code",
      "metadata": {
        "colab": {
          "base_uri": "https://localhost:8080/"
        },
        "id": "DZoyJajyIkda",
        "outputId": "b1d52fd4-a992-464b-8882-c914c567e704"
      },
      "source": [
        "%timeit -n 1 -r 1 np.dot(x,x)"
      ],
      "execution_count": null,
      "outputs": [
        {
          "output_type": "stream",
          "text": [
            "1 loop, best of 1: 52.6 ms per loop\n"
          ],
          "name": "stdout"
        }
      ]
    },
    {
      "cell_type": "code",
      "metadata": {
        "colab": {
          "base_uri": "https://localhost:8080/"
        },
        "id": "_Zrsifl_Ioy0",
        "outputId": "26d7db5a-daef-4856-ee42-af64dd64ebfe"
      },
      "source": [
        "%timeit -n 1 -r 1 jnp.dot(y,y).block_until_ready()"
      ],
      "execution_count": null,
      "outputs": [
        {
          "output_type": "stream",
          "text": [
            "1 loop, best of 1: 1.47 ms per loop\n"
          ],
          "name": "stdout"
        }
      ]
    },
    {
      "cell_type": "markdown",
      "metadata": {
        "id": "yPr7VBzvn5KZ"
      },
      "source": [
        "## Automatic differentiation with grad"
      ]
    },
    {
      "cell_type": "code",
      "metadata": {
        "colab": {
          "base_uri": "https://localhost:8080/"
        },
        "id": "luH9C2UEOvRY",
        "outputId": "f6fe1321-8c89-4898-d5ad-f37a66e83f8b"
      },
      "source": [
        "from jax import grad\n",
        "\n",
        "def f(x):\n",
        "  return 3*x**2 + 2*x + 5\n",
        "\n",
        "def f_prime(x):\n",
        "  return 6*x +2\n",
        "\n",
        "grad(f)(1.0)\n"
      ],
      "execution_count": null,
      "outputs": [
        {
          "output_type": "execute_result",
          "data": {
            "text/plain": [
              "DeviceArray(8., dtype=float32)"
            ]
          },
          "metadata": {
            "tags": []
          },
          "execution_count": 28
        }
      ]
    },
    {
      "cell_type": "code",
      "metadata": {
        "colab": {
          "base_uri": "https://localhost:8080/"
        },
        "id": "5pvVYAtfQS6T",
        "outputId": "a9ca4b5f-db27-4646-cdfc-b32f692780ca"
      },
      "source": [
        "f_prime(1.0)"
      ],
      "execution_count": null,
      "outputs": [
        {
          "output_type": "execute_result",
          "data": {
            "text/plain": [
              "8.0"
            ]
          },
          "metadata": {
            "tags": []
          },
          "execution_count": 29
        }
      ]
    },
    {
      "cell_type": "markdown",
      "metadata": {
        "id": "tm6aGDKin-m9"
      },
      "source": [
        "## XLA and Jit"
      ]
    },
    {
      "cell_type": "code",
      "metadata": {
        "colab": {
          "base_uri": "https://localhost:8080/"
        },
        "id": "fshDy8RHVTZK",
        "outputId": "fe978a61-dc5b-4f8b-f982-50d29d067715"
      },
      "source": [
        "from jax import jit\n",
        "\n",
        "x = np.random.rand(1000,1000)\n",
        "y = jnp.array(x)\n",
        "\n",
        "def f(x):\n",
        "  for _ in range(10):\n",
        "      x = 0.5*x + 0.1* jnp.sin(x)\n",
        "  return x\n",
        "\n",
        "g = jit(f)\n",
        "\n",
        "\n",
        "\n",
        "%timeit -n 5 -r 5 f(y).block_until_ready()\n"
      ],
      "execution_count": null,
      "outputs": [
        {
          "output_type": "stream",
          "text": [
            "5 loops, best of 5: 11.4 ms per loop\n"
          ],
          "name": "stdout"
        }
      ]
    },
    {
      "cell_type": "code",
      "metadata": {
        "colab": {
          "base_uri": "https://localhost:8080/"
        },
        "id": "cU-adwtQWYdz",
        "outputId": "84c5ac23-6e9a-4598-ba2e-d5e9344d2453"
      },
      "source": [
        "%timeit -n 5 -r 5 g(y).block_until_ready()\n"
      ],
      "execution_count": null,
      "outputs": [
        {
          "output_type": "stream",
          "text": [
            "5 loops, best of 5: 309 µs per loop\n"
          ],
          "name": "stdout"
        }
      ]
    },
    {
      "cell_type": "markdown",
      "metadata": {
        "id": "1BB_Y80JoHPE"
      },
      "source": [
        "## pmap"
      ]
    },
    {
      "cell_type": "code",
      "metadata": {
        "colab": {
          "base_uri": "https://localhost:8080/"
        },
        "id": "GYMn8IrHoE59",
        "outputId": "34aab07e-91bb-4185-b5dd-628610b545be"
      },
      "source": [
        "from jax import pmap\n",
        "\n",
        "def f(x):\n",
        "  return jnp.sin(x) + x**2\n",
        "\n",
        "f(np.arange(4))\n",
        "# pmap(f)(np.arange(4))\n",
        "\n",
        "## Note:colab doesn't allow to attach multiple GPUs to test this"
      ],
      "execution_count": null,
      "outputs": [
        {
          "output_type": "execute_result",
          "data": {
            "text/plain": [
              "DeviceArray([0.       , 1.841471 , 4.9092975, 9.14112  ], dtype=float32)"
            ]
          },
          "metadata": {
            "tags": []
          },
          "execution_count": 11
        }
      ]
    },
    {
      "cell_type": "code",
      "metadata": {
        "id": "NzjtsYA9tDZm"
      },
      "source": [
        "from functools import partial\n",
        "from jax.lax import psum\n",
        "\n",
        "@partial(pmap, axis_name=\"i\")\n",
        "def normalize(x):\n",
        "  return x/ psum(x,'i')\n",
        "\n",
        "normalize(np.arange(8.))\n",
        "\n",
        "## Note:colab doesn't allow to attach multiple GPUs to test this"
      ],
      "execution_count": null,
      "outputs": []
    },
    {
      "cell_type": "markdown",
      "metadata": {
        "id": "aGqccul_vLto"
      },
      "source": [
        "## vmap"
      ]
    },
    {
      "cell_type": "code",
      "metadata": {
        "colab": {
          "base_uri": "https://localhost:8080/"
        },
        "id": "keCNLEKfvNug",
        "outputId": "7b4f4db9-c5c6-41f0-e954-231d90a6921e"
      },
      "source": [
        "from jax import vmap\n",
        "\n",
        "def f(x):\n",
        "  return jnp.square(x)\n",
        "\n",
        "f(jnp.arange(5))\n",
        "vmap(f)(jnp.arange(5))\n"
      ],
      "execution_count": null,
      "outputs": [
        {
          "output_type": "stream",
          "text": [
            "1 loop, best of 1: 930 µs per loop\n",
            "1 loop, best of 1: 1.14 ms per loop\n"
          ],
          "name": "stdout"
        }
      ]
    },
    {
      "cell_type": "markdown",
      "metadata": {
        "id": "9ekRR3Tq1fZJ"
      },
      "source": [
        "## Pseudo Random Number Generator"
      ]
    },
    {
      "cell_type": "code",
      "metadata": {
        "colab": {
          "base_uri": "https://localhost:8080/"
        },
        "id": "KSXLrJXC1jrt",
        "outputId": "34fc01b6-1ec1-474a-ff2d-8e3faa9451da"
      },
      "source": [
        "from jax import random\n",
        "key = random.PRNGKey(5)\n",
        "random.uniform(key)"
      ],
      "execution_count": null,
      "outputs": [
        {
          "output_type": "execute_result",
          "data": {
            "text/plain": [
              "DeviceArray(0.6343405, dtype=float32)"
            ]
          },
          "metadata": {
            "tags": []
          },
          "execution_count": 34
        }
      ]
    },
    {
      "cell_type": "markdown",
      "metadata": {
        "id": "x90OCp9A6L3J"
      },
      "source": [
        "## Profiler"
      ]
    },
    {
      "cell_type": "code",
      "metadata": {
        "colab": {
          "base_uri": "https://localhost:8080/",
          "height": 129
        },
        "id": "WYf1RVcK6MIM",
        "outputId": "e8f27fab-7ed9-446e-d8e4-25b7251db142"
      },
      "source": [
        "import jax.profiler\n",
        "\n",
        "def func1(x):\n",
        "  return jnp.tile(x, 10) * 0.5\n",
        "\n",
        "def func2(x):\n",
        "  y = func1(x)\n",
        "  return y, jnp.tile(x, 10) + 1\n",
        "\n",
        "x = jax.random.normal(jax.random.PRNGKey(42), (1000, 1000))\n",
        "y, z = func2(x)\n",
        "\n",
        "z.block_until_ready()\n",
        "\n",
        "jax.profiler.save_device_memory_profile(\"memory.prof\")\n"
      ],
      "execution_count": null,
      "outputs": [
        {
          "output_type": "error",
          "ename": "SyntaxError",
          "evalue": "ignored",
          "traceback": [
            "\u001b[0;36m  File \u001b[0;32m\"<ipython-input-37-58bfd3c05c30>\"\u001b[0;36m, line \u001b[0;32m17\u001b[0m\n\u001b[0;31m    pprof --web memory.prof\u001b[0m\n\u001b[0m                     ^\u001b[0m\n\u001b[0;31mSyntaxError\u001b[0m\u001b[0;31m:\u001b[0m invalid syntax\n"
          ]
        }
      ]
    }
  ]
}